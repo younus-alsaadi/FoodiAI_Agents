{
 "cells": [
  {
   "cell_type": "code",
   "id": "initial_id",
   "metadata": {
    "collapsed": true,
    "ExecuteTime": {
     "end_time": "2025-10-07T14:12:02.217176Z",
     "start_time": "2025-10-07T14:11:56.343055Z"
    }
   },
   "source": "from LFM2Provider import LFM2Provider",
   "outputs": [
    {
     "name": "stderr",
     "output_type": "stream",
     "text": [
      "\n",
      "A module that was compiled using NumPy 1.x cannot be run in\n",
      "NumPy 2.3.3 as it may crash. To support both 1.x and 2.x\n",
      "versions of NumPy, modules must be compiled with NumPy 2.0.\n",
      "Some module may need to rebuild instead e.g. with 'pybind11>=2.12'.\n",
      "\n",
      "If you are a user of the module, the easiest solution will be to\n",
      "downgrade to 'numpy<2' or try to upgrade the affected module.\n",
      "We expect that some modules will need time to support NumPy 2.\n",
      "\n",
      "Traceback (most recent call last):  File \"/usr/local/Caskroom/miniforge/base/envs/Foodi_Agent/lib/python3.12/runpy.py\", line 198, in _run_module_as_main\n",
      "    return _run_code(code, main_globals, None,\n",
      "  File \"/usr/local/Caskroom/miniforge/base/envs/Foodi_Agent/lib/python3.12/runpy.py\", line 88, in _run_code\n",
      "    exec(code, run_globals)\n",
      "  File \"/usr/local/Caskroom/miniforge/base/envs/Foodi_Agent/lib/python3.12/site-packages/ipykernel_launcher.py\", line 18, in <module>\n",
      "    app.launch_new_instance()\n",
      "  File \"/usr/local/Caskroom/miniforge/base/envs/Foodi_Agent/lib/python3.12/site-packages/traitlets/config/application.py\", line 1075, in launch_instance\n",
      "    app.start()\n",
      "  File \"/usr/local/Caskroom/miniforge/base/envs/Foodi_Agent/lib/python3.12/site-packages/ipykernel/kernelapp.py\", line 739, in start\n",
      "    self.io_loop.start()\n",
      "  File \"/usr/local/Caskroom/miniforge/base/envs/Foodi_Agent/lib/python3.12/site-packages/tornado/platform/asyncio.py\", line 211, in start\n",
      "    self.asyncio_loop.run_forever()\n",
      "  File \"/usr/local/Caskroom/miniforge/base/envs/Foodi_Agent/lib/python3.12/asyncio/base_events.py\", line 645, in run_forever\n",
      "    self._run_once()\n",
      "  File \"/usr/local/Caskroom/miniforge/base/envs/Foodi_Agent/lib/python3.12/asyncio/base_events.py\", line 1999, in _run_once\n",
      "    handle._run()\n",
      "  File \"/usr/local/Caskroom/miniforge/base/envs/Foodi_Agent/lib/python3.12/asyncio/events.py\", line 88, in _run\n",
      "    self._context.run(self._callback, *self._args)\n",
      "  File \"/usr/local/Caskroom/miniforge/base/envs/Foodi_Agent/lib/python3.12/site-packages/ipykernel/kernelbase.py\", line 545, in dispatch_queue\n",
      "    await self.process_one()\n",
      "  File \"/usr/local/Caskroom/miniforge/base/envs/Foodi_Agent/lib/python3.12/site-packages/ipykernel/kernelbase.py\", line 534, in process_one\n",
      "    await dispatch(*args)\n",
      "  File \"/usr/local/Caskroom/miniforge/base/envs/Foodi_Agent/lib/python3.12/site-packages/ipykernel/kernelbase.py\", line 437, in dispatch_shell\n",
      "    await result\n",
      "  File \"/usr/local/Caskroom/miniforge/base/envs/Foodi_Agent/lib/python3.12/site-packages/ipykernel/ipkernel.py\", line 362, in execute_request\n",
      "    await super().execute_request(stream, ident, parent)\n",
      "  File \"/usr/local/Caskroom/miniforge/base/envs/Foodi_Agent/lib/python3.12/site-packages/ipykernel/kernelbase.py\", line 778, in execute_request\n",
      "    reply_content = await reply_content\n",
      "  File \"/usr/local/Caskroom/miniforge/base/envs/Foodi_Agent/lib/python3.12/site-packages/ipykernel/ipkernel.py\", line 449, in do_execute\n",
      "    res = shell.run_cell(\n",
      "  File \"/usr/local/Caskroom/miniforge/base/envs/Foodi_Agent/lib/python3.12/site-packages/ipykernel/zmqshell.py\", line 549, in run_cell\n",
      "    return super().run_cell(*args, **kwargs)\n",
      "  File \"/usr/local/Caskroom/miniforge/base/envs/Foodi_Agent/lib/python3.12/site-packages/IPython/core/interactiveshell.py\", line 3098, in run_cell\n",
      "    result = self._run_cell(\n",
      "  File \"/usr/local/Caskroom/miniforge/base/envs/Foodi_Agent/lib/python3.12/site-packages/IPython/core/interactiveshell.py\", line 3153, in _run_cell\n",
      "    result = runner(coro)\n",
      "  File \"/usr/local/Caskroom/miniforge/base/envs/Foodi_Agent/lib/python3.12/site-packages/IPython/core/async_helpers.py\", line 128, in _pseudo_sync_runner\n",
      "    coro.send(None)\n",
      "  File \"/usr/local/Caskroom/miniforge/base/envs/Foodi_Agent/lib/python3.12/site-packages/IPython/core/interactiveshell.py\", line 3362, in run_cell_async\n",
      "    has_raised = await self.run_ast_nodes(code_ast.body, cell_name,\n",
      "  File \"/usr/local/Caskroom/miniforge/base/envs/Foodi_Agent/lib/python3.12/site-packages/IPython/core/interactiveshell.py\", line 3607, in run_ast_nodes\n",
      "    if await self.run_code(code, result, async_=asy):\n",
      "  File \"/usr/local/Caskroom/miniforge/base/envs/Foodi_Agent/lib/python3.12/site-packages/IPython/core/interactiveshell.py\", line 3667, in run_code\n",
      "    exec(code_obj, self.user_global_ns, self.user_ns)\n",
      "  File \"/var/folders/80/7528r6gs3fq0v7xq3xtq8zzc0000gn/T/ipykernel_3642/3094682694.py\", line 1, in <module>\n",
      "    from LFM2Provider import LFM2Provider\n",
      "  File \"/Users/younus-alsaadi/PycharmProjects/Foodi_AI_Agent/src/LLMs/FineTuning/provider/LFM2Provider.py\", line 6, in <module>\n",
      "    import torch\n",
      "  File \"/usr/local/Caskroom/miniforge/base/envs/Foodi_Agent/lib/python3.12/site-packages/torch/__init__.py\", line 1477, in <module>\n",
      "    from .functional import *  # noqa: F403\n",
      "  File \"/usr/local/Caskroom/miniforge/base/envs/Foodi_Agent/lib/python3.12/site-packages/torch/functional.py\", line 9, in <module>\n",
      "    import torch.nn.functional as F\n",
      "  File \"/usr/local/Caskroom/miniforge/base/envs/Foodi_Agent/lib/python3.12/site-packages/torch/nn/__init__.py\", line 1, in <module>\n",
      "    from .modules import *  # noqa: F403\n",
      "  File \"/usr/local/Caskroom/miniforge/base/envs/Foodi_Agent/lib/python3.12/site-packages/torch/nn/modules/__init__.py\", line 35, in <module>\n",
      "    from .transformer import TransformerEncoder, TransformerDecoder, \\\n",
      "  File \"/usr/local/Caskroom/miniforge/base/envs/Foodi_Agent/lib/python3.12/site-packages/torch/nn/modules/transformer.py\", line 20, in <module>\n",
      "    device: torch.device = torch.device(torch._C._get_default_device()),  # torch.device('cpu'),\n",
      "/usr/local/Caskroom/miniforge/base/envs/Foodi_Agent/lib/python3.12/site-packages/torch/nn/modules/transformer.py:20: UserWarning: Failed to initialize NumPy: _ARRAY_API not found (Triggered internally at /Users/runner/work/pytorch/pytorch/pytorch/torch/csrc/utils/tensor_numpy.cpp:84.)\n",
      "  device: torch.device = torch.device(torch._C._get_default_device()),  # torch.device('cpu'),\n",
      "/usr/local/Caskroom/miniforge/base/envs/Foodi_Agent/lib/python3.12/site-packages/tqdm/auto.py:21: TqdmWarning: IProgress not found. Please update jupyter and ipywidgets. See https://ipywidgets.readthedocs.io/en/stable/user_install.html\n",
      "  from .autonotebook import tqdm as notebook_tqdm\n"
     ]
    }
   ],
   "execution_count": 1
  },
  {
   "metadata": {
    "ExecuteTime": {
     "end_time": "2025-10-07T14:12:33.329850Z",
     "start_time": "2025-10-07T14:12:33.324176Z"
    }
   },
   "cell_type": "code",
   "source": [
    "provider = LFM2Provider(\n",
    "    model_id=\"LiquidAI/LFM2-1.2B-Extract\",\n",
    "    torch_dtype=\"float32\",     # safe on CPU\n",
    "    device_map=None,           # do not use \"auto\" on CPU unless you install accelerate\n",
    "    use_flash_attention_2=False\n",
    ")\n"
   ],
   "id": "75fcd5f9bf4138e6",
   "outputs": [],
   "execution_count": 2
  },
  {
   "metadata": {
    "ExecuteTime": {
     "end_time": "2025-10-07T14:14:09.536845Z",
     "start_time": "2025-10-07T14:12:38.639305Z"
    }
   },
   "cell_type": "code",
   "source": "provider.load_from_hub()",
   "id": "f77b1404b4b6cb9b",
   "outputs": [
    {
     "data": {
      "text/plain": [
       "<LFM2Provider.LFM2Provider at 0x10b83d280>"
      ]
     },
     "execution_count": 3,
     "metadata": {},
     "output_type": "execute_result"
    }
   ],
   "execution_count": 3
  },
  {
   "metadata": {
    "ExecuteTime": {
     "end_time": "2025-10-07T14:16:52.251501Z",
     "start_time": "2025-10-07T14:16:52.233849Z"
    }
   },
   "cell_type": "code",
   "source": [
    " # Chat messages (simple)\n",
    "messages = [\n",
    "    {\"role\": \"user\", \"content\": \"What is C. elegans?\"},\n",
    "]"
   ],
   "id": "cae2d47ed5818896",
   "outputs": [],
   "execution_count": 4
  },
  {
   "metadata": {
    "ExecuteTime": {
     "end_time": "2025-10-07T14:20:04.079856Z",
     "start_time": "2025-10-07T14:16:54.406162Z"
    }
   },
   "cell_type": "code",
   "source": [
    "answer = provider.generate_answer(\n",
    "        messages,\n",
    "        max_new_tokens=512,\n",
    "        temperature=0.3,\n",
    "        min_p=0.15,              # matches your snippet; ignored if not supported\n",
    "        repetition_penalty=1.05,\n",
    "        do_sample=True,\n",
    "        stop_on_eos=True,\n",
    "    )"
   ],
   "id": "45160c66bcf9f7dd",
   "outputs": [
    {
     "name": "stderr",
     "output_type": "stream",
     "text": [
      "\n",
      "KeyboardInterrupt\n",
      "\n"
     ]
    }
   ],
   "execution_count": 5
  },
  {
   "metadata": {
    "ExecuteTime": {
     "end_time": "2025-10-06T14:30:32.718789Z",
     "start_time": "2025-10-06T14:30:32.632408Z"
    }
   },
   "cell_type": "code",
   "source": "print(answer)",
   "id": "abfa0065027afac7",
   "outputs": [
    {
     "name": "stdout",
     "output_type": "stream",
     "text": [
      "C. elegans, also known as Caenorhabditis elegans, is a species of free-living nematode (roundworm) that has become a model organism in biological research. It is a microscopic worm that measures about 1 millimeter in length and lives in soil or decaying organic matter. The name \"elegans\" refers to its slender, elegant appearance.\n",
      "\n",
      "C. elegans was first isolated in the 1960s by Dr. Sydney Brenner, who recognized its potential as a model organism due to its simple body plan, short life cycle, and ease of cultivation. The worm has only three main cell types in its adult stage: nerve cells, muscle cells, and epithelial cells, making it an ideal system for studying development, genetics, and cell biology.\n",
      "\n",
      "One of the key reasons C. elegans is widely used in research is its transparent body, which allows scientists to observe its internal structures and processes in real-time using microscopy techniques. Additionally, its genome was fully sequenced in 1998, making it one of the first multicellular organisms to have its entire genome mapped. This has facilitated studies on gene function, development, aging, and disease mechanisms, including neurodegenerative disorders and cancer.\n",
      "\n",
      "The use of C. elegans has contributed significantly to our understanding of fundamental biological processes and has led to numerous discoveries with implications for human health and disease.\n"
     ]
    }
   ],
   "execution_count": 9
  },
  {
   "metadata": {},
   "cell_type": "code",
   "outputs": [],
   "execution_count": null,
   "source": "",
   "id": "deaee66d0abe0130"
  }
 ],
 "metadata": {
  "kernelspec": {
   "display_name": "Python 3",
   "language": "python",
   "name": "python3"
  },
  "language_info": {
   "codemirror_mode": {
    "name": "ipython",
    "version": 2
   },
   "file_extension": ".py",
   "mimetype": "text/x-python",
   "name": "python",
   "nbconvert_exporter": "python",
   "pygments_lexer": "ipython2",
   "version": "2.7.6"
  }
 },
 "nbformat": 4,
 "nbformat_minor": 5
}
